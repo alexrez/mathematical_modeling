{
 "cells": [
  {
   "cell_type": "code",
   "execution_count": 1,
   "metadata": {},
   "outputs": [
    {
     "data": {
      "text/html": [
       "<style>.container {width: 100%; !important; }</style>"
      ],
      "text/plain": [
       "<IPython.core.display.HTML object>"
      ]
     },
     "metadata": {},
     "output_type": "display_data"
    }
   ],
   "source": [
    "from IPython.core.display import display, HTML\n",
    "\n",
    "display(HTML(\"<style>.container {width: 100%; !important; }</style>\"))"
   ]
  },
  {
   "cell_type": "code",
   "execution_count": 2,
   "metadata": {},
   "outputs": [],
   "source": [
    "import numpy as np\n",
    "import pandas as pd\n",
    "\n",
    "import time\n",
    "import random\n",
    "import matplotlib\n",
    "from matplotlib import pyplot as plt\n",
    "\n",
    "%matplotlib inline"
   ]
  },
  {
   "cell_type": "code",
   "execution_count": 3,
   "metadata": {},
   "outputs": [],
   "source": [
    "pd.set_option('display.max_columns', 30)\n",
    "pd.set_option('display.precision',3)"
   ]
  },
  {
   "cell_type": "code",
   "execution_count": 4,
   "metadata": {},
   "outputs": [],
   "source": [
    "def initlattice(x, y, dist):\n",
    "    dx = float(dist)\n",
    "    dy = np.sin(np.pi / 3) * dist\n",
    "    result = []\n",
    "    iid = 0\n",
    "    for j in range(y):\n",
    "        if (j % 2 == 0):\n",
    "            shift = 0\n",
    "        else:\n",
    "            shift = dx / 2\n",
    "        for i in range(x):\n",
    "            result.append(np.array([iid, shift + i*dx, j*dy]))\n",
    "            iid += 1\n",
    "    result = np.array(result)\n",
    "    return result"
   ]
  },
  {
   "cell_type": "code",
   "execution_count": 5,
   "metadata": {},
   "outputs": [],
   "source": [
    "def Distance(a, b):\n",
    "    dot_a = np.array([a[1], a[2]])    \n",
    "    dot_b = np.array([[b[1], b[1]+ax, b[1]-ax], [b[2], b[2]+ay, b[2]-ay]])\n",
    "    dot_b = dot_b.reshape(-1, 1)\n",
    "    \n",
    "    dist_x = dot_a[0] - dot_b[:3]\n",
    "    dist_y = dot_a[1] - dot_b[3:]\n",
    "    \n",
    "    res = np.sqrt(np.power(dist_x, 2) + np.power(dist_y, 2))\n",
    "    return res.min()"
   ]
  },
  {
   "cell_type": "code",
   "execution_count": 6,
   "metadata": {},
   "outputs": [],
   "source": [
    "def DistanceManhattan(a, b):\n",
    "    dot_a = np.array([a[1], a[2]])    \n",
    "    dot_b = np.array([[b[1], b[1]+ax, b[1]-ax], [b[2], b[2]+ay, b[2]-ay]])\n",
    "    dot_b = dot_b.reshape(-1, 1)\n",
    "    \n",
    "    dist_x = dot_a[0] - dot_b[:3]\n",
    "    dist_y = dot_a[1] - dot_b[3:]\n",
    "    \n",
    "    res = np.absolute(dist_x) + np.absolute(dist_y)\n",
    "    return res.min()"
   ]
  },
  {
   "cell_type": "code",
   "execution_count": 7,
   "metadata": {},
   "outputs": [],
   "source": [
    "def MinDistance(point_, points_):\n",
    "    res = [d0 + 0.1]\n",
    "    for apoint in points_:\n",
    "        if (apoint[0] != point_[0]) and (DistanceManhattan(point_, apoint) < d0*2):\n",
    "            res.append(Distance(point_, apoint))\n",
    "    res = np.array(res)\n",
    "    return res.min()"
   ]
  },
  {
   "cell_type": "code",
   "execution_count": 8,
   "metadata": {},
   "outputs": [],
   "source": [
    "def V(distance):\n",
    "    return 1 / distance"
   ]
  },
  {
   "cell_type": "code",
   "execution_count": 9,
   "metadata": {},
   "outputs": [],
   "source": [
    "def CalcEnergy(points_):\n",
    "#     energy = 0\n",
    "    e = []\n",
    "    for x in range(len(points_)):\n",
    "        for y in range(x, len(points_)):\n",
    "            if (points_[x, 0] != points_[y, 0]):\n",
    "                e.append(Distance(points_[x], points_[y]))\n",
    "#                 energy += V(Distance(points_[x], points_[y]))\n",
    "    e = np.array(e)\n",
    "    energy = V(e)\n",
    "    return energy.sum()"
   ]
  },
  {
   "cell_type": "code",
   "execution_count": 10,
   "metadata": {},
   "outputs": [],
   "source": [
    "def MovePoint(point, alpha):\n",
    "    ksi1 = random.uniform(-1, 1)\n",
    "    ksi2 = random.uniform(-1, 1)\n",
    "    x = point[1] + ksi1*alpha\n",
    "    y = point[2] + ksi2*alpha\n",
    "    if (x < 0):\n",
    "        x += ax\n",
    "    elif (x > ax):\n",
    "        x -= ax\n",
    "    if (y < 0):\n",
    "        y += ay\n",
    "    elif (y > ay):\n",
    "        y -= ay\n",
    "    return np.array([point[0], x, y])"
   ]
  },
  {
   "cell_type": "code",
   "execution_count": 11,
   "metadata": {},
   "outputs": [],
   "source": [
    "def DoLoop(points_):\n",
    "    oldenergy = CalcEnergy(points_)\n",
    "    for point in points_:\n",
    "        oldx = point[1]\n",
    "        oldy = point[2]\n",
    "        tmp = MovePoint(point, alpha)\n",
    "        if (MinDistance(tmp, points_) > d0):\n",
    "            point[1] = tmp[1]\n",
    "            point[2] = tmp[2]\n",
    "            newenergy = CalcEnergy(points_)\n",
    "            delta = newenergy - oldenergy\n",
    "            if (delta > 0):\n",
    "                ksi3 = random.uniform(0, 1)\n",
    "                if (ksi3 < np.exp(-delta / (k*T))):\n",
    "                    oldenergy = newenergy\n",
    "                else:\n",
    "                    point[1] = oldx\n",
    "                    point[2] = oldy\n",
    "            else:\n",
    "                oldenergy = newenergy\n",
    "        energy.append(oldenergy)"
   ]
  },
  {
   "cell_type": "code",
   "execution_count": 12,
   "metadata": {},
   "outputs": [],
   "source": [
    "points = initlattice(7, 7, 1/10)\n",
    "points_before = np.array(points)\n",
    "\n",
    "energy = []\n",
    "v = 7\n",
    "T = 6\n",
    "k = 1\n",
    "d = 1/14\n",
    "d0 = d*(1 - 2 ** (v - 8))\n",
    "alpha = d - d0\n",
    "\n",
    "ax = 1\n",
    "ay = 1"
   ]
  },
  {
   "cell_type": "code",
   "execution_count": 13,
   "metadata": {},
   "outputs": [],
   "source": [
    "random.seed()\n",
    "\n",
    "for i in range(100):\n",
    "    DoLoop(points)"
   ]
  },
  {
   "cell_type": "code",
   "execution_count": 14,
   "metadata": {},
   "outputs": [
    {
     "data": {
      "image/png": "[encoded data removed]",
      "text/plain": [
       "<Figure size 1008x1008 with 3 Axes>"
      ]
     },
     "metadata": {
      "needs_background": "light"
     },
     "output_type": "display_data"
    }
   ],
   "source": [
    "fig = plt.figure()\n",
    "fig.set_figheight(14)\n",
    "fig.set_figwidth(14)\n",
    "fig.suptitle(\"Метод Монте-Карло, алгоритм Метрополиса\")\n",
    "\n",
    "ax1 = fig.add_subplot(221)\n",
    "ax1.set_title('Начальное положение точек')\n",
    "ax1.grid()\n",
    "ax1.scatter(points_before[:, 1], points_before[:, 2], s=20)\n",
    "\n",
    "ax2 = fig.add_subplot(222) \n",
    "ax2.set_title('Итоговое положение точек')\n",
    "ax2.grid()\n",
    "ax2.scatter(points[:, 1], points[:, 2], color='r', s=20)\n",
    "\n",
    "ax3= fig.add_subplot(212)\n",
    "ax3.set_title('F')\n",
    "ax3.plot(energy)\n",
    "\n",
    "plt.show()"
   ]
  },
  {
   "cell_type": "code",
   "execution_count": 17,
   "metadata": {},
   "outputs": [],
   "source": [
    "# energy"
   ]
  }
 ],
 "metadata": {
  "kernelspec": {
   "display_name": "Python 3",
   "language": "python",
   "name": "python3"
  },
  "language_info": {
   "codemirror_mode": {
    "name": "ipython",
    "version": 3
   },
   "file_extension": ".py",
   "mimetype": "text/x-python",
   "name": "python",
   "nbconvert_exporter": "python",
   "pygments_lexer": "ipython3",
   "version": "3.7.1"
  }
 },
 "nbformat": 4,
 "nbformat_minor": 2
}
